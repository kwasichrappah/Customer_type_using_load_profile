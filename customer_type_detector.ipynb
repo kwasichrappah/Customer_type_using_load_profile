{
 "cells": [
  {
   "cell_type": "code",
   "execution_count": null,
   "metadata": {},
   "outputs": [],
   "source": [
    "## Using ML to predict the kind of customer based on the load readings\n",
    "### Load the data \n",
    "### Create a load profile \n",
    "### create a voltage profile\n",
    "### Save profile in a folder/directory /database\n",
    "### create a ML to understand the various profiles\n",
    "### \n"
   ]
  }
 ],
 "metadata": {
  "language_info": {
   "name": "python"
  }
 },
 "nbformat": 4,
 "nbformat_minor": 2
}
