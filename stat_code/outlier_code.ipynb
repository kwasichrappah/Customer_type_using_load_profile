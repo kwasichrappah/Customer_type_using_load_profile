{
 "cells": [
  {
   "cell_type": "code",
   "execution_count": 2,
   "metadata": {},
   "outputs": [],
   "source": [
    "import pandas as pd\n",
    "import matplotlib.pyplot as plt\n",
    "import numpy as np\n",
    "import seaborn as sns\n"
   ]
  },
  {
   "cell_type": "code",
   "execution_count": 9,
   "metadata": {},
   "outputs": [],
   "source": [
    "#pull the data\n",
    "df = pd.read_excel('../load_data/BSP_Total.xlsx')"
   ]
  },
  {
   "cell_type": "code",
   "execution_count": 10,
   "metadata": {},
   "outputs": [
    {
     "name": "stderr",
     "output_type": "stream",
     "text": [
      "C:\\Users\\chrap\\AppData\\Local\\Temp\\ipykernel_14456\\720648137.py:3: UserWarning: Parsing dates in %d-%m-%Y %H:%M:%S format when dayfirst=False (the default) was specified. Pass `dayfirst=True` or specify a format to silence this warning.\n",
      "  df['Date/Time'] = pd.to_datetime(df['Date/Time'])\n"
     ]
    }
   ],
   "source": [
    "# Convert the 'datetime' column to datetime format\n",
    "df['Date/Time'] = pd.to_datetime(df['Date/Time'])\n",
    "\n",
    "# Extract date and time into separate columns\n",
    "df['date'] = df['Date/Time'].dt.date\n",
    "df['time'] = df['Date/Time'].dt.time"
   ]
  },
  {
   "cell_type": "code",
   "execution_count": 11,
   "metadata": {},
   "outputs": [
    {
     "data": {
      "text/html": [
       "<div>\n",
       "<style scoped>\n",
       "    .dataframe tbody tr th:only-of-type {\n",
       "        vertical-align: middle;\n",
       "    }\n",
       "\n",
       "    .dataframe tbody tr th {\n",
       "        vertical-align: top;\n",
       "    }\n",
       "\n",
       "    .dataframe thead th {\n",
       "        text-align: right;\n",
       "    }\n",
       "</style>\n",
       "<table border=\"1\" class=\"dataframe\">\n",
       "  <thead>\n",
       "    <tr style=\"text-align: right;\">\n",
       "      <th></th>\n",
       "      <th>date</th>\n",
       "      <th>time</th>\n",
       "      <th>Total kW</th>\n",
       "      <th>Total kVA</th>\n",
       "      <th>Total kVAr</th>\n",
       "      <th>PF</th>\n",
       "    </tr>\n",
       "  </thead>\n",
       "  <tbody>\n",
       "    <tr>\n",
       "      <th>0</th>\n",
       "      <td>2020-12-31</td>\n",
       "      <td>01:00:00</td>\n",
       "      <td>19310.0</td>\n",
       "      <td>20320.0</td>\n",
       "      <td>6326.634176</td>\n",
       "      <td>0.950295</td>\n",
       "    </tr>\n",
       "    <tr>\n",
       "      <th>1</th>\n",
       "      <td>2020-12-31</td>\n",
       "      <td>02:00:00</td>\n",
       "      <td>18510.0</td>\n",
       "      <td>19490.0</td>\n",
       "      <td>6102.458521</td>\n",
       "      <td>0.949718</td>\n",
       "    </tr>\n",
       "    <tr>\n",
       "      <th>2</th>\n",
       "      <td>2020-12-31</td>\n",
       "      <td>03:00:00</td>\n",
       "      <td>18040.0</td>\n",
       "      <td>19040.0</td>\n",
       "      <td>6089.334939</td>\n",
       "      <td>0.947479</td>\n",
       "    </tr>\n",
       "  </tbody>\n",
       "</table>\n",
       "</div>"
      ],
      "text/plain": [
       "         date      time  Total kW  Total kVA   Total kVAr        PF\n",
       "0  2020-12-31  01:00:00   19310.0    20320.0  6326.634176  0.950295\n",
       "1  2020-12-31  02:00:00   18510.0    19490.0  6102.458521  0.949718\n",
       "2  2020-12-31  03:00:00   18040.0    19040.0  6089.334939  0.947479"
      ]
     },
     "execution_count": 11,
     "metadata": {},
     "output_type": "execute_result"
    }
   ],
   "source": [
    "# Drop the original 'Date/time' column if desired\n",
    "df.drop(columns=['Date/Time'], inplace=True)\n",
    "df = df[['date', 'time', 'Total kW','Total kVA','Total kVAr','PF']]\n",
    "\n",
    "df.head(3)"
   ]
  },
  {
   "cell_type": "code",
   "execution_count": 12,
   "metadata": {},
   "outputs": [
    {
     "data": {
      "text/plain": [
       "{'whiskers': [<matplotlib.lines.Line2D at 0x1baf4fb8250>,\n",
       "  <matplotlib.lines.Line2D at 0x1baf4fbafd0>],\n",
       " 'caps': [<matplotlib.lines.Line2D at 0x1baf4f61d10>,\n",
       "  <matplotlib.lines.Line2D at 0x1baf4f61550>],\n",
       " 'boxes': [<matplotlib.lines.Line2D at 0x1baf5472350>],\n",
       " 'medians': [<matplotlib.lines.Line2D at 0x1baf4f61390>],\n",
       " 'fliers': [<matplotlib.lines.Line2D at 0x1baf4f60950>],\n",
       " 'means': []}"
      ]
     },
     "execution_count": 12,
     "metadata": {},
     "output_type": "execute_result"
    },
    {
     "data": {
      "image/png": "[encoded data removed]",
      "text/plain": [
       "<Figure size 1000x700 with 1 Axes>"
      ]
     },
     "metadata": {},
     "output_type": "display_data"
    }
   ],
   "source": [
    "fig = plt.figure(figsize =(10, 7))\n",
    " \n",
    "# Creating plot\n",
    "plt.boxplot(df['Total kW'])"
   ]
  },
  {
   "cell_type": "code",
   "execution_count": null,
   "metadata": {},
   "outputs": [],
   "source": [
    "#distribution plot\n"
   ]
  },
  {
   "cell_type": "code",
   "execution_count": 13,
   "metadata": {},
   "outputs": [
    {
     "name": "stdout",
     "output_type": "stream",
     "text": [
      "Q1: 16696.612\n",
      "Q3: 19760.97425\n",
      "IQR: 3064.3622499999983\n"
     ]
    }
   ],
   "source": [
    "# Calculate the IQR for the 'kW' column\n",
    "Q1 = df['Total kW'].quantile(0.25)\n",
    "Q3 = df['Total kW'].quantile(0.75)\n",
    "IQR = Q3 - Q1\n",
    "max = Q3+(1.5*IQR)\n",
    "\n",
    "print(f\"Q1: {Q1}\")\n",
    "print(f\"Q3: {Q3}\")\n",
    "print(f\"IQR: {IQR}\")"
   ]
  },
  {
   "cell_type": "code",
   "execution_count": 15,
   "metadata": {},
   "outputs": [
    {
     "name": "stdout",
     "output_type": "stream",
     "text": [
      "Q3: 24357.517624999997\n",
      "Rows with Power above Q3:\n",
      "            date      time   Total kW  Total kVA    Total kVAr        PF\n",
      "1245  2021-02-20  22:00:00  24370.000  25710.000   8191.898437  0.947880\n",
      "1293  2021-02-22  22:00:00  24390.000  25680.000   8036.809068  0.949766\n",
      "2348  2021-07-04  21:00:00  24633.690  29414.729  16075.061404  0.837461\n",
      "2492  2021-04-13  21:00:00  24592.106  26538.861   9976.946710  0.926645\n",
      "2493  2021-04-13  22:00:00  24455.433  26366.188   9854.322221  0.927530\n",
      "7392  2021-04-11  01:00:00  24879.044  26594.719   9397.459675  0.935488\n",
      "7652  2021-11-14  21:00:00  24416.949  32670.904  21707.154805  0.747361\n",
      "7796  2021-11-20  21:00:00  24369.112  27533.658  12815.955025  0.885066\n",
      "7891  2021-11-24  20:00:00  24875.083  32540.987  20979.658736  0.764423\n",
      "7892  2021-11-24  21:00:00  24698.487  33045.367  21954.066140  0.747411\n",
      "7915  2021-11-25  20:00:00  24529.728  34310.128  23989.108521  0.714941\n",
      "7916  2021-11-25  21:00:00  24692.319  37905.860  28760.104394  0.651412\n",
      "8107  2021-03-12  20:00:00  24680.386  26821.501  10501.021988  0.920172\n",
      "8108  2021-03-12  21:00:00  24682.567  27548.707  12235.282737  0.895961\n",
      "8155  2021-05-12  20:00:00  24558.154  26032.753   8637.204459  0.943356\n",
      "8156  2021-05-12  21:00:00  25164.494  26815.700   9264.448619  0.938424\n",
      "8157  2021-05-12  22:00:00  24732.692  26612.685   9824.914724  0.929357\n",
      "8179  2021-06-12  20:00:00  24599.604  26087.094   8683.084498  0.942980\n",
      "8180  2021-06-12  21:00:00  25152.726  26678.010   8891.377415  0.942826\n",
      "8181  2021-06-12  22:00:00  24635.050  26187.203   8881.661582  0.940729\n",
      "8203  2021-07-12  20:00:00  25167.505  37067.166  27213.443137  0.678970\n",
      "8204  2021-07-12  21:00:00  25433.091  33862.780  22357.230408  0.751063\n",
      "8205  2021-07-12  22:00:00  24771.539  34808.112  24453.537915  0.711660\n",
      "8252  2021-09-12  21:00:00  24591.034  26901.873  10908.337074  0.914101\n",
      "8276  2021-10-12  21:00:00  24540.447  26271.410   9378.349771  0.934112\n",
      "8300  2021-11-12  21:00:00  25549.503  27120.945   9097.722470  0.942058\n",
      "8301  2021-11-12  22:00:00  25028.768  26942.554   9973.063143  0.928968\n",
      "8323  2021-12-12  20:00:00  25239.737  29410.339  15097.142652  0.858193\n",
      "8324  2021-12-12  21:00:00  25602.548  29711.073  15075.058697  0.861717\n",
      "8325  2021-12-12  22:00:00  25173.449  29240.670  14876.634280  0.860905\n",
      "8347  2021-12-13  20:00:00  25175.224  26867.577   9384.817015  0.937011\n",
      "8348  2021-12-13  21:00:00  25506.643  26965.741   8749.991460  0.945891\n",
      "8349  2021-12-13  22:00:00  25629.811  27152.519   8965.047471  0.943920\n",
      "8395  2021-12-15  20:00:00  24699.704  26461.951   9495.234228  0.933404\n",
      "8396  2021-12-15  21:00:00  25322.603  27125.027   9722.801400  0.933551\n",
      "8397  2021-12-15  22:00:00  24509.952  26217.200   9306.117816  0.934881\n",
      "8420  2021-12-16  21:00:00  24576.035  25946.161   8319.962399  0.947193\n",
      "8443  2021-12-17  20:00:00  24948.733  26549.948   9080.774223  0.939690\n",
      "8444  2021-12-17  21:00:00  25330.478  26874.406   8977.782696  0.942550\n",
      "8445  2021-12-17  22:00:00  24599.470  26053.722   8582.686396  0.944183\n",
      "8467  2021-12-18  20:00:00  25369.671  27587.581  10837.638986  0.919605\n",
      "8468  2021-12-18  21:00:00  25760.283  27620.124   9963.888274  0.932664\n",
      "8469  2021-12-18  22:00:00  25524.161  27408.890   9988.215871  0.931237\n",
      "8470  2021-12-18  23:00:00  24589.272  26468.421   9795.152513  0.929004\n",
      "8491  2021-12-19  20:00:00  25004.024  28626.648  13938.570928  0.873453\n",
      "8492  2021-12-19  21:00:00  25250.161  28745.317  13737.635128  0.878410\n",
      "8493  2021-12-19  22:00:00  24943.799  28448.616  13679.570306  0.876802\n",
      "8515  2021-12-20  20:00:00  24366.166  26124.446   9422.135282  0.932696\n",
      "8516  2021-12-20  21:00:00  25209.296  26868.419   9295.339410  0.938250\n",
      "8517  2021-12-20  22:00:00  24928.959  26382.969   8637.595524  0.944888\n",
      "8539  2021-12-21  20:00:00  24943.985  26622.695   9304.058329  0.936944\n",
      "8540  2021-12-21  21:00:00  25830.515  27638.314   9831.627312  0.934591\n",
      "8541  2021-12-21  22:00:00  24953.205  26669.974   9414.089090  0.935629\n",
      "8564  2021-12-22  21:00:00  24721.548  29973.000  16947.737120  0.824794\n",
      "8587  2021-12-23  20:00:00  24396.286  27884.039  13503.364779  0.874919\n",
      "8588  2021-12-23  21:00:00  24738.284  27349.106  11661.513784  0.904537\n",
      "8589  2021-12-23  22:00:00  24720.978  27322.913  11636.787423  0.904771\n",
      "8590  2021-12-23  23:00:00  24449.342  27259.681  12054.869721  0.896905\n",
      "58\n"
     ]
    }
   ],
   "source": [
    "#find the peak outliers\n",
    "rows_above_Q3 = df[df['Total kW'] > max]\n",
    "\n",
    "print(f\"Q3: {max}\")\n",
    "print(\"Rows with Power above Q3:\")\n",
    "print(rows_above_Q3)\n",
    "print(len(rows_above_Q3))"
   ]
  },
  {
   "cell_type": "code",
   "execution_count": 16,
   "metadata": {},
   "outputs": [
    {
     "name": "stdout",
     "output_type": "stream",
     "text": [
      "58\n"
     ]
    },
    {
     "name": "stderr",
     "output_type": "stream",
     "text": [
      "C:\\Users\\chrap\\AppData\\Local\\Temp\\ipykernel_14456\\1557260420.py:1: SettingWithCopyWarning: \n",
      "A value is trying to be set on a copy of a slice from a DataFrame\n",
      "\n",
      "See the caveats in the documentation: https://pandas.pydata.org/pandas-docs/stable/user_guide/indexing.html#returning-a-view-versus-a-copy\n",
      "  rows_above_Q3.dropna(inplace=True)\n"
     ]
    }
   ],
   "source": [
    "rows_above_Q3.dropna(inplace=True)\n",
    "print(len(rows_above_Q3))"
   ]
  },
  {
   "cell_type": "code",
   "execution_count": 17,
   "metadata": {},
   "outputs": [
    {
     "name": "stdout",
     "output_type": "stream",
     "text": [
      "25928.51187452714\n",
      "Empty DataFrame\n",
      "Columns: [date, time, Total kW, Total kVA, Total kVAr, PF]\n",
      "Index: []\n",
      "26545.07498464458\n",
      "Empty DataFrame\n",
      "Columns: [date, time, Total kW, Total kVA, Total kVAr, PF]\n",
      "Index: []\n",
      "21933.112134391344\n",
      "            date      time   Total kW  Total kVA   Total kVAr        PF\n",
      "7392  2021-04-11  01:00:00  24879.044  26594.719  9397.459675  0.935488\n",
      "25205.29815418419\n",
      "            date      time   Total kW  Total kVA    Total kVAr        PF\n",
      "8323  2021-12-12  20:00:00  25239.737  29410.339  15097.142652  0.858193\n",
      "8467  2021-12-18  20:00:00  25369.671  27587.581  10837.638986  0.919605\n",
      "24345.723899904984\n",
      "            date      time   Total kW  Total kVA    Total kVAr        PF\n",
      "8470  2021-12-18  23:00:00  24589.272  26468.421   9795.152513  0.929004\n",
      "8590  2021-12-23  23:00:00  24449.342  27259.681  12054.869721  0.896905\n"
     ]
    }
   ],
   "source": [
    "\n",
    "#unique hour times of peaks\n",
    "times = rows_above_Q3['time'].unique()\n",
    "times\n",
    "for time in times:\n",
    "    hour = df[df['time'] == time]\n",
    "    # Calculate the mean of the 'age' column\n",
    "    mean = hour['Total kW'].mean()\n",
    "\n",
    "# Calculate the standard deviation of the 'age' column\n",
    "    std_dev = hour['Total kW'].std()\n",
    "\n",
    "    # Filter the DataFrame to get rows where 'age' is greater than 30\n",
    "    ages_above_30 = hour[hour['Total kW'] > (mean + (2*std_dev) )]\n",
    "    tot = mean + (2*std_dev)\n",
    "    print(tot )\n",
    "    print(ages_above_30)\n",
    "\n",
    "# Get the indices of these rows\n",
    "    #locations = ages_above_30.index.tolist()\n",
    "\n"
   ]
  },
  {
   "cell_type": "code",
   "execution_count": null,
   "metadata": {},
   "outputs": [],
   "source": [
    "#list all time points\n",
    "#pick one time point,find mean,std and how many were above twoXstd\n",
    "#now do all"
   ]
  }
 ],
 "metadata": {
  "kernelspec": {
   "display_name": ".venv",
   "language": "python",
   "name": "python3"
  },
  "language_info": {
   "codemirror_mode": {
    "name": "ipython",
    "version": 3
   },
   "file_extension": ".py",
   "mimetype": "text/x-python",
   "name": "python",
   "nbconvert_exporter": "python",
   "pygments_lexer": "ipython3",
   "version": "3.11.0"
  }
 },
 "nbformat": 4,
 "nbformat_minor": 2
}
